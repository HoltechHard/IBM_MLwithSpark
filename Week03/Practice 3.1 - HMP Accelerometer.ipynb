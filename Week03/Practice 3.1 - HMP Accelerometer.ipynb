{
 "cells": [
  {
   "cell_type": "markdown",
   "metadata": {},
   "source": [
    "# Preprocessing Data"
   ]
  },
  {
   "cell_type": "markdown",
   "metadata": {},
   "source": [
    "### 1. Collect data"
   ]
  },
  {
   "cell_type": "code",
   "execution_count": 2,
   "metadata": {},
   "outputs": [
    {
     "name": "stdout",
     "output_type": "stream",
     "text": [
      "Cloning into 'HMP_Dataset'...\n",
      "remote: Enumerating objects: 865, done.\u001b[K\n",
      "remote: Total 865 (delta 0), reused 0 (delta 0), pack-reused 865\u001b[K\n",
      "Receiving objects: 100% (865/865), 1010.96 KiB | 4.14 MiB/s, done.\n",
      "Updating files: 100% (848/848), done.\n"
     ]
    }
   ],
   "source": [
    "!git clone https://github.com/wchill/HMP_Dataset.git"
   ]
  },
  {
   "cell_type": "code",
   "execution_count": 23,
   "metadata": {},
   "outputs": [
    {
     "name": "stdout",
     "output_type": "stream",
     "text": [
      "Brush_teeth\tDrink_glass  Getup_bed\t  Pour_water\t Use_telephone\r\n",
      "Climb_stairs\tEat_meat     impdata.py   README.txt\t Walk\r\n",
      "Comb_hair\tEat_soup     Liedown_bed  Sitdown_chair\r\n",
      "Descend_stairs\tfinal.py     MANUAL.txt   Standup_chair\r\n"
     ]
    }
   ],
   "source": [
    "! ls HMP_Dataset"
   ]
  },
  {
   "cell_type": "code",
   "execution_count": 24,
   "metadata": {},
   "outputs": [
    {
     "name": "stdout",
     "output_type": "stream",
     "text": [
      "Accelerometer-2011-04-11-13-28-18-brush_teeth-f1.txt\r\n",
      "Accelerometer-2011-04-11-13-29-54-brush_teeth-f1.txt\r\n",
      "Accelerometer-2011-05-30-08-35-11-brush_teeth-f1.txt\r\n",
      "Accelerometer-2011-05-30-09-36-50-brush_teeth-f1.txt\r\n",
      "Accelerometer-2011-05-30-10-34-16-brush_teeth-m1.txt\r\n",
      "Accelerometer-2011-05-30-21-10-57-brush_teeth-f1.txt\r\n",
      "Accelerometer-2011-05-30-21-55-04-brush_teeth-m2.txt\r\n",
      "Accelerometer-2011-05-31-15-16-47-brush_teeth-f1.txt\r\n",
      "Accelerometer-2011-06-02-10-42-22-brush_teeth-f1.txt\r\n",
      "Accelerometer-2011-06-02-10-45-50-brush_teeth-f1.txt\r\n",
      "Accelerometer-2011-06-06-10-45-27-brush_teeth-f1.txt\r\n",
      "Accelerometer-2011-06-06-10-48-05-brush_teeth-f1.txt\r\n"
     ]
    }
   ],
   "source": [
    "! ls HMP_Dataset/Brush_teeth"
   ]
  },
  {
   "cell_type": "code",
   "execution_count": 25,
   "metadata": {},
   "outputs": [],
   "source": [
    "from pyspark.sql.types import StructType, StructField, IntegerType\n",
    "\n",
    "schema = StructType([\n",
    "    StructField('x', IntegerType(), True), \n",
    "    StructField('y', IntegerType(), True), \n",
    "    StructField('z', IntegerType(), True)\n",
    "])"
   ]
  },
  {
   "cell_type": "code",
   "execution_count": 19,
   "metadata": {},
   "outputs": [],
   "source": [
    "import os"
   ]
  },
  {
   "cell_type": "code",
   "execution_count": 30,
   "metadata": {},
   "outputs": [],
   "source": [
    "file_list = os.listdir('HMP_Dataset')"
   ]
  },
  {
   "cell_type": "code",
   "execution_count": 31,
   "metadata": {},
   "outputs": [
    {
     "data": {
      "text/plain": [
       "['.git',\n",
       " '.idea',\n",
       " 'Brush_teeth',\n",
       " 'Climb_stairs',\n",
       " 'Comb_hair',\n",
       " 'Descend_stairs',\n",
       " 'Drink_glass',\n",
       " 'Eat_meat',\n",
       " 'Eat_soup',\n",
       " 'Getup_bed',\n",
       " 'Liedown_bed',\n",
       " 'MANUAL.txt',\n",
       " 'Pour_water',\n",
       " 'README.txt',\n",
       " 'Sitdown_chair',\n",
       " 'Standup_chair',\n",
       " 'Use_telephone',\n",
       " 'Walk',\n",
       " 'final.py',\n",
       " 'impdata.py']"
      ]
     },
     "execution_count": 31,
     "metadata": {},
     "output_type": "execute_result"
    }
   ],
   "source": [
    "file_list"
   ]
  },
  {
   "cell_type": "code",
   "execution_count": 32,
   "metadata": {},
   "outputs": [],
   "source": [
    "file_list_filtered = [s for s in file_list if '_' in s]"
   ]
  },
  {
   "cell_type": "code",
   "execution_count": 33,
   "metadata": {},
   "outputs": [
    {
     "data": {
      "text/plain": [
       "['Brush_teeth',\n",
       " 'Climb_stairs',\n",
       " 'Comb_hair',\n",
       " 'Descend_stairs',\n",
       " 'Drink_glass',\n",
       " 'Eat_meat',\n",
       " 'Eat_soup',\n",
       " 'Getup_bed',\n",
       " 'Liedown_bed',\n",
       " 'Pour_water',\n",
       " 'Sitdown_chair',\n",
       " 'Standup_chair',\n",
       " 'Use_telephone']"
      ]
     },
     "execution_count": 33,
     "metadata": {},
     "output_type": "execute_result"
    }
   ],
   "source": [
    "file_list_filtered"
   ]
  },
  {
   "cell_type": "markdown",
   "metadata": {},
   "source": [
    "### 2. Make Dataframe"
   ]
  },
  {
   "cell_type": "code",
   "execution_count": 34,
   "metadata": {},
   "outputs": [],
   "source": [
    "df = None\n",
    "\n",
    "from pyspark.sql.functions import lit\n",
    "\n",
    "for category in file_list_filtered:\n",
    "    data_files = os.listdir('HMP_Dataset/' + category)\n",
    "    \n",
    "    for data_file in data_files: \n",
    "        temp_df = spark.read.option('header', 'false').option('delimiter', ' ').csv('HMP_Dataset/' + category + '/' + data_file, schema = schema)\n",
    "        temp_df = temp_df.withColumn('class', lit(category))\n",
    "        temp_df = temp_df.withColumn('source', lit(data_file))\n",
    "    \n",
    "        if df is None: \n",
    "            df = temp_df\n",
    "        else:\n",
    "            df = df.union(temp_df)\n"
   ]
  },
  {
   "cell_type": "code",
   "execution_count": 35,
   "metadata": {},
   "outputs": [
    {
     "name": "stdout",
     "output_type": "stream",
     "text": [
      "+---+---+---+-----------+--------------------+\n",
      "|  x|  y|  z|      class|              source|\n",
      "+---+---+---+-----------+--------------------+\n",
      "| 22| 49| 35|Brush_teeth|Accelerometer-201...|\n",
      "| 22| 49| 35|Brush_teeth|Accelerometer-201...|\n",
      "| 22| 52| 35|Brush_teeth|Accelerometer-201...|\n",
      "| 22| 52| 35|Brush_teeth|Accelerometer-201...|\n",
      "| 21| 52| 34|Brush_teeth|Accelerometer-201...|\n",
      "| 22| 51| 34|Brush_teeth|Accelerometer-201...|\n",
      "| 20| 50| 35|Brush_teeth|Accelerometer-201...|\n",
      "| 22| 52| 34|Brush_teeth|Accelerometer-201...|\n",
      "| 22| 50| 34|Brush_teeth|Accelerometer-201...|\n",
      "| 22| 51| 35|Brush_teeth|Accelerometer-201...|\n",
      "| 21| 51| 33|Brush_teeth|Accelerometer-201...|\n",
      "| 20| 50| 34|Brush_teeth|Accelerometer-201...|\n",
      "| 21| 49| 33|Brush_teeth|Accelerometer-201...|\n",
      "| 21| 49| 33|Brush_teeth|Accelerometer-201...|\n",
      "| 20| 51| 35|Brush_teeth|Accelerometer-201...|\n",
      "| 18| 49| 34|Brush_teeth|Accelerometer-201...|\n",
      "| 19| 48| 34|Brush_teeth|Accelerometer-201...|\n",
      "| 16| 53| 34|Brush_teeth|Accelerometer-201...|\n",
      "| 18| 52| 35|Brush_teeth|Accelerometer-201...|\n",
      "| 18| 51| 32|Brush_teeth|Accelerometer-201...|\n",
      "+---+---+---+-----------+--------------------+\n",
      "only showing top 20 rows\n",
      "\n"
     ]
    }
   ],
   "source": [
    "df.show()"
   ]
  },
  {
   "cell_type": "markdown",
   "metadata": {},
   "source": [
    "### 3. Pipeline 1 transform - indexer"
   ]
  },
  {
   "cell_type": "code",
   "execution_count": 36,
   "metadata": {},
   "outputs": [
    {
     "name": "stdout",
     "output_type": "stream",
     "text": [
      "+---+---+---+-----------+--------------------+----------+\n",
      "|  x|  y|  z|      class|              source|classIndex|\n",
      "+---+---+---+-----------+--------------------+----------+\n",
      "| 22| 49| 35|Brush_teeth|Accelerometer-201...|       5.0|\n",
      "| 22| 49| 35|Brush_teeth|Accelerometer-201...|       5.0|\n",
      "| 22| 52| 35|Brush_teeth|Accelerometer-201...|       5.0|\n",
      "| 22| 52| 35|Brush_teeth|Accelerometer-201...|       5.0|\n",
      "| 21| 52| 34|Brush_teeth|Accelerometer-201...|       5.0|\n",
      "| 22| 51| 34|Brush_teeth|Accelerometer-201...|       5.0|\n",
      "| 20| 50| 35|Brush_teeth|Accelerometer-201...|       5.0|\n",
      "| 22| 52| 34|Brush_teeth|Accelerometer-201...|       5.0|\n",
      "| 22| 50| 34|Brush_teeth|Accelerometer-201...|       5.0|\n",
      "| 22| 51| 35|Brush_teeth|Accelerometer-201...|       5.0|\n",
      "| 21| 51| 33|Brush_teeth|Accelerometer-201...|       5.0|\n",
      "| 20| 50| 34|Brush_teeth|Accelerometer-201...|       5.0|\n",
      "| 21| 49| 33|Brush_teeth|Accelerometer-201...|       5.0|\n",
      "| 21| 49| 33|Brush_teeth|Accelerometer-201...|       5.0|\n",
      "| 20| 51| 35|Brush_teeth|Accelerometer-201...|       5.0|\n",
      "| 18| 49| 34|Brush_teeth|Accelerometer-201...|       5.0|\n",
      "| 19| 48| 34|Brush_teeth|Accelerometer-201...|       5.0|\n",
      "| 16| 53| 34|Brush_teeth|Accelerometer-201...|       5.0|\n",
      "| 18| 52| 35|Brush_teeth|Accelerometer-201...|       5.0|\n",
      "| 18| 51| 32|Brush_teeth|Accelerometer-201...|       5.0|\n",
      "+---+---+---+-----------+--------------------+----------+\n",
      "only showing top 20 rows\n",
      "\n"
     ]
    }
   ],
   "source": [
    "#transform data\n",
    "from pyspark.ml.feature import StringIndexer\n",
    "\n",
    "indexer = StringIndexer(inputCol = 'class', outputCol = 'classIndex')\n",
    "indexed = indexer.fit(df).transform(df)\n",
    "indexed.show()"
   ]
  },
  {
   "cell_type": "markdown",
   "metadata": {},
   "source": [
    "### 4. Pipeline 2 transform - Encoder"
   ]
  },
  {
   "cell_type": "code",
   "execution_count": 37,
   "metadata": {},
   "outputs": [],
   "source": [
    "from pyspark.ml.feature import OneHotEncoder\n",
    "encoder = OneHotEncoder(inputCol = 'classIndex', outputCol = 'categoryVec')\n",
    "encoded = encoder.transform(indexed)"
   ]
  },
  {
   "cell_type": "code",
   "execution_count": 38,
   "metadata": {},
   "outputs": [
    {
     "name": "stdout",
     "output_type": "stream",
     "text": [
      "+---+---+---+-----------+--------------------+----------+--------------+\n",
      "|  x|  y|  z|      class|              source|classIndex|   categoryVec|\n",
      "+---+---+---+-----------+--------------------+----------+--------------+\n",
      "| 22| 49| 35|Brush_teeth|Accelerometer-201...|       5.0|(12,[5],[1.0])|\n",
      "| 22| 49| 35|Brush_teeth|Accelerometer-201...|       5.0|(12,[5],[1.0])|\n",
      "| 22| 52| 35|Brush_teeth|Accelerometer-201...|       5.0|(12,[5],[1.0])|\n",
      "| 22| 52| 35|Brush_teeth|Accelerometer-201...|       5.0|(12,[5],[1.0])|\n",
      "| 21| 52| 34|Brush_teeth|Accelerometer-201...|       5.0|(12,[5],[1.0])|\n",
      "| 22| 51| 34|Brush_teeth|Accelerometer-201...|       5.0|(12,[5],[1.0])|\n",
      "| 20| 50| 35|Brush_teeth|Accelerometer-201...|       5.0|(12,[5],[1.0])|\n",
      "| 22| 52| 34|Brush_teeth|Accelerometer-201...|       5.0|(12,[5],[1.0])|\n",
      "| 22| 50| 34|Brush_teeth|Accelerometer-201...|       5.0|(12,[5],[1.0])|\n",
      "| 22| 51| 35|Brush_teeth|Accelerometer-201...|       5.0|(12,[5],[1.0])|\n",
      "| 21| 51| 33|Brush_teeth|Accelerometer-201...|       5.0|(12,[5],[1.0])|\n",
      "| 20| 50| 34|Brush_teeth|Accelerometer-201...|       5.0|(12,[5],[1.0])|\n",
      "| 21| 49| 33|Brush_teeth|Accelerometer-201...|       5.0|(12,[5],[1.0])|\n",
      "| 21| 49| 33|Brush_teeth|Accelerometer-201...|       5.0|(12,[5],[1.0])|\n",
      "| 20| 51| 35|Brush_teeth|Accelerometer-201...|       5.0|(12,[5],[1.0])|\n",
      "| 18| 49| 34|Brush_teeth|Accelerometer-201...|       5.0|(12,[5],[1.0])|\n",
      "| 19| 48| 34|Brush_teeth|Accelerometer-201...|       5.0|(12,[5],[1.0])|\n",
      "| 16| 53| 34|Brush_teeth|Accelerometer-201...|       5.0|(12,[5],[1.0])|\n",
      "| 18| 52| 35|Brush_teeth|Accelerometer-201...|       5.0|(12,[5],[1.0])|\n",
      "| 18| 51| 32|Brush_teeth|Accelerometer-201...|       5.0|(12,[5],[1.0])|\n",
      "+---+---+---+-----------+--------------------+----------+--------------+\n",
      "only showing top 20 rows\n",
      "\n"
     ]
    }
   ],
   "source": [
    "encoded.show()"
   ]
  },
  {
   "cell_type": "markdown",
   "metadata": {},
   "source": [
    "### 5. Pipeline 3 transform - vectorAssembler"
   ]
  },
  {
   "cell_type": "code",
   "execution_count": 40,
   "metadata": {},
   "outputs": [],
   "source": [
    "from pyspark.ml.linalg import Vectors\n",
    "from pyspark.ml.feature import VectorAssembler\n",
    "\n",
    "vectorAssembler = VectorAssembler(inputCols = ['x', 'y', 'z'], \n",
    "                                  outputCol = 'features')\n",
    "\n",
    "features_vectorized = vectorAssembler.transform(encoded)\n"
   ]
  },
  {
   "cell_type": "code",
   "execution_count": 41,
   "metadata": {},
   "outputs": [
    {
     "name": "stdout",
     "output_type": "stream",
     "text": [
      "+---+---+---+-----------+--------------------+----------+--------------+----------------+\n",
      "|  x|  y|  z|      class|              source|classIndex|   categoryVec|        features|\n",
      "+---+---+---+-----------+--------------------+----------+--------------+----------------+\n",
      "| 22| 49| 35|Brush_teeth|Accelerometer-201...|       5.0|(12,[5],[1.0])|[22.0,49.0,35.0]|\n",
      "| 22| 49| 35|Brush_teeth|Accelerometer-201...|       5.0|(12,[5],[1.0])|[22.0,49.0,35.0]|\n",
      "| 22| 52| 35|Brush_teeth|Accelerometer-201...|       5.0|(12,[5],[1.0])|[22.0,52.0,35.0]|\n",
      "| 22| 52| 35|Brush_teeth|Accelerometer-201...|       5.0|(12,[5],[1.0])|[22.0,52.0,35.0]|\n",
      "| 21| 52| 34|Brush_teeth|Accelerometer-201...|       5.0|(12,[5],[1.0])|[21.0,52.0,34.0]|\n",
      "| 22| 51| 34|Brush_teeth|Accelerometer-201...|       5.0|(12,[5],[1.0])|[22.0,51.0,34.0]|\n",
      "| 20| 50| 35|Brush_teeth|Accelerometer-201...|       5.0|(12,[5],[1.0])|[20.0,50.0,35.0]|\n",
      "| 22| 52| 34|Brush_teeth|Accelerometer-201...|       5.0|(12,[5],[1.0])|[22.0,52.0,34.0]|\n",
      "| 22| 50| 34|Brush_teeth|Accelerometer-201...|       5.0|(12,[5],[1.0])|[22.0,50.0,34.0]|\n",
      "| 22| 51| 35|Brush_teeth|Accelerometer-201...|       5.0|(12,[5],[1.0])|[22.0,51.0,35.0]|\n",
      "| 21| 51| 33|Brush_teeth|Accelerometer-201...|       5.0|(12,[5],[1.0])|[21.0,51.0,33.0]|\n",
      "| 20| 50| 34|Brush_teeth|Accelerometer-201...|       5.0|(12,[5],[1.0])|[20.0,50.0,34.0]|\n",
      "| 21| 49| 33|Brush_teeth|Accelerometer-201...|       5.0|(12,[5],[1.0])|[21.0,49.0,33.0]|\n",
      "| 21| 49| 33|Brush_teeth|Accelerometer-201...|       5.0|(12,[5],[1.0])|[21.0,49.0,33.0]|\n",
      "| 20| 51| 35|Brush_teeth|Accelerometer-201...|       5.0|(12,[5],[1.0])|[20.0,51.0,35.0]|\n",
      "| 18| 49| 34|Brush_teeth|Accelerometer-201...|       5.0|(12,[5],[1.0])|[18.0,49.0,34.0]|\n",
      "| 19| 48| 34|Brush_teeth|Accelerometer-201...|       5.0|(12,[5],[1.0])|[19.0,48.0,34.0]|\n",
      "| 16| 53| 34|Brush_teeth|Accelerometer-201...|       5.0|(12,[5],[1.0])|[16.0,53.0,34.0]|\n",
      "| 18| 52| 35|Brush_teeth|Accelerometer-201...|       5.0|(12,[5],[1.0])|[18.0,52.0,35.0]|\n",
      "| 18| 51| 32|Brush_teeth|Accelerometer-201...|       5.0|(12,[5],[1.0])|[18.0,51.0,32.0]|\n",
      "+---+---+---+-----------+--------------------+----------+--------------+----------------+\n",
      "only showing top 20 rows\n",
      "\n"
     ]
    }
   ],
   "source": [
    "features_vectorized.show()"
   ]
  },
  {
   "cell_type": "markdown",
   "metadata": {},
   "source": [
    "### 6. Pipeline 4 transform - Normalizer"
   ]
  },
  {
   "cell_type": "code",
   "execution_count": 42,
   "metadata": {
    "scrolled": true
   },
   "outputs": [
    {
     "name": "stdout",
     "output_type": "stream",
     "text": [
      "+---+---+---+-----------+--------------------+----------+--------------+----------------+--------------------+\n",
      "|  x|  y|  z|      class|              source|classIndex|   categoryVec|        features|       features_norm|\n",
      "+---+---+---+-----------+--------------------+----------+--------------+----------------+--------------------+\n",
      "| 22| 49| 35|Brush_teeth|Accelerometer-201...|       5.0|(12,[5],[1.0])|[22.0,49.0,35.0]|[0.20754716981132...|\n",
      "| 22| 49| 35|Brush_teeth|Accelerometer-201...|       5.0|(12,[5],[1.0])|[22.0,49.0,35.0]|[0.20754716981132...|\n",
      "| 22| 52| 35|Brush_teeth|Accelerometer-201...|       5.0|(12,[5],[1.0])|[22.0,52.0,35.0]|[0.20183486238532...|\n",
      "| 22| 52| 35|Brush_teeth|Accelerometer-201...|       5.0|(12,[5],[1.0])|[22.0,52.0,35.0]|[0.20183486238532...|\n",
      "| 21| 52| 34|Brush_teeth|Accelerometer-201...|       5.0|(12,[5],[1.0])|[21.0,52.0,34.0]|[0.19626168224299...|\n",
      "| 22| 51| 34|Brush_teeth|Accelerometer-201...|       5.0|(12,[5],[1.0])|[22.0,51.0,34.0]|[0.20560747663551...|\n",
      "| 20| 50| 35|Brush_teeth|Accelerometer-201...|       5.0|(12,[5],[1.0])|[20.0,50.0,35.0]|[0.19047619047619...|\n",
      "| 22| 52| 34|Brush_teeth|Accelerometer-201...|       5.0|(12,[5],[1.0])|[22.0,52.0,34.0]|[0.20370370370370...|\n",
      "| 22| 50| 34|Brush_teeth|Accelerometer-201...|       5.0|(12,[5],[1.0])|[22.0,50.0,34.0]|[0.20754716981132...|\n",
      "| 22| 51| 35|Brush_teeth|Accelerometer-201...|       5.0|(12,[5],[1.0])|[22.0,51.0,35.0]|[0.20370370370370...|\n",
      "| 21| 51| 33|Brush_teeth|Accelerometer-201...|       5.0|(12,[5],[1.0])|[21.0,51.0,33.0]|[0.2,0.4857142857...|\n",
      "| 20| 50| 34|Brush_teeth|Accelerometer-201...|       5.0|(12,[5],[1.0])|[20.0,50.0,34.0]|[0.19230769230769...|\n",
      "| 21| 49| 33|Brush_teeth|Accelerometer-201...|       5.0|(12,[5],[1.0])|[21.0,49.0,33.0]|[0.20388349514563...|\n",
      "| 21| 49| 33|Brush_teeth|Accelerometer-201...|       5.0|(12,[5],[1.0])|[21.0,49.0,33.0]|[0.20388349514563...|\n",
      "| 20| 51| 35|Brush_teeth|Accelerometer-201...|       5.0|(12,[5],[1.0])|[20.0,51.0,35.0]|[0.18867924528301...|\n",
      "| 18| 49| 34|Brush_teeth|Accelerometer-201...|       5.0|(12,[5],[1.0])|[18.0,49.0,34.0]|[0.17821782178217...|\n",
      "| 19| 48| 34|Brush_teeth|Accelerometer-201...|       5.0|(12,[5],[1.0])|[19.0,48.0,34.0]|[0.18811881188118...|\n",
      "| 16| 53| 34|Brush_teeth|Accelerometer-201...|       5.0|(12,[5],[1.0])|[16.0,53.0,34.0]|[0.15533980582524...|\n",
      "| 18| 52| 35|Brush_teeth|Accelerometer-201...|       5.0|(12,[5],[1.0])|[18.0,52.0,35.0]|[0.17142857142857...|\n",
      "| 18| 51| 32|Brush_teeth|Accelerometer-201...|       5.0|(12,[5],[1.0])|[18.0,51.0,32.0]|[0.17821782178217...|\n",
      "+---+---+---+-----------+--------------------+----------+--------------+----------------+--------------------+\n",
      "only showing top 20 rows\n",
      "\n"
     ]
    }
   ],
   "source": [
    "from pyspark.ml.feature import Normalizer\n",
    "\n",
    "normalizer = Normalizer(inputCol = 'features', outputCol = 'features_norm', p = 1.0)\n",
    "normalized_data = normalizer.transform(features_vectorized)\n",
    "normalized_data.show()\n"
   ]
  },
  {
   "cell_type": "markdown",
   "metadata": {},
   "source": [
    "### 7. Stack pipeline"
   ]
  },
  {
   "cell_type": "code",
   "execution_count": 43,
   "metadata": {},
   "outputs": [
    {
     "name": "stdout",
     "output_type": "stream",
     "text": [
      "+---+---+---+-----------+--------------------+----------+--------------+----------------+--------------------+\n",
      "|  x|  y|  z|      class|              source|classIndex|   categoryVec|        features|       features_norm|\n",
      "+---+---+---+-----------+--------------------+----------+--------------+----------------+--------------------+\n",
      "| 22| 49| 35|Brush_teeth|Accelerometer-201...|       5.0|(12,[5],[1.0])|[22.0,49.0,35.0]|[0.20754716981132...|\n",
      "| 22| 49| 35|Brush_teeth|Accelerometer-201...|       5.0|(12,[5],[1.0])|[22.0,49.0,35.0]|[0.20754716981132...|\n",
      "| 22| 52| 35|Brush_teeth|Accelerometer-201...|       5.0|(12,[5],[1.0])|[22.0,52.0,35.0]|[0.20183486238532...|\n",
      "| 22| 52| 35|Brush_teeth|Accelerometer-201...|       5.0|(12,[5],[1.0])|[22.0,52.0,35.0]|[0.20183486238532...|\n",
      "| 21| 52| 34|Brush_teeth|Accelerometer-201...|       5.0|(12,[5],[1.0])|[21.0,52.0,34.0]|[0.19626168224299...|\n",
      "| 22| 51| 34|Brush_teeth|Accelerometer-201...|       5.0|(12,[5],[1.0])|[22.0,51.0,34.0]|[0.20560747663551...|\n",
      "| 20| 50| 35|Brush_teeth|Accelerometer-201...|       5.0|(12,[5],[1.0])|[20.0,50.0,35.0]|[0.19047619047619...|\n",
      "| 22| 52| 34|Brush_teeth|Accelerometer-201...|       5.0|(12,[5],[1.0])|[22.0,52.0,34.0]|[0.20370370370370...|\n",
      "| 22| 50| 34|Brush_teeth|Accelerometer-201...|       5.0|(12,[5],[1.0])|[22.0,50.0,34.0]|[0.20754716981132...|\n",
      "| 22| 51| 35|Brush_teeth|Accelerometer-201...|       5.0|(12,[5],[1.0])|[22.0,51.0,35.0]|[0.20370370370370...|\n",
      "| 21| 51| 33|Brush_teeth|Accelerometer-201...|       5.0|(12,[5],[1.0])|[21.0,51.0,33.0]|[0.2,0.4857142857...|\n",
      "| 20| 50| 34|Brush_teeth|Accelerometer-201...|       5.0|(12,[5],[1.0])|[20.0,50.0,34.0]|[0.19230769230769...|\n",
      "| 21| 49| 33|Brush_teeth|Accelerometer-201...|       5.0|(12,[5],[1.0])|[21.0,49.0,33.0]|[0.20388349514563...|\n",
      "| 21| 49| 33|Brush_teeth|Accelerometer-201...|       5.0|(12,[5],[1.0])|[21.0,49.0,33.0]|[0.20388349514563...|\n",
      "| 20| 51| 35|Brush_teeth|Accelerometer-201...|       5.0|(12,[5],[1.0])|[20.0,51.0,35.0]|[0.18867924528301...|\n",
      "| 18| 49| 34|Brush_teeth|Accelerometer-201...|       5.0|(12,[5],[1.0])|[18.0,49.0,34.0]|[0.17821782178217...|\n",
      "| 19| 48| 34|Brush_teeth|Accelerometer-201...|       5.0|(12,[5],[1.0])|[19.0,48.0,34.0]|[0.18811881188118...|\n",
      "| 16| 53| 34|Brush_teeth|Accelerometer-201...|       5.0|(12,[5],[1.0])|[16.0,53.0,34.0]|[0.15533980582524...|\n",
      "| 18| 52| 35|Brush_teeth|Accelerometer-201...|       5.0|(12,[5],[1.0])|[18.0,52.0,35.0]|[0.17142857142857...|\n",
      "| 18| 51| 32|Brush_teeth|Accelerometer-201...|       5.0|(12,[5],[1.0])|[18.0,51.0,32.0]|[0.17821782178217...|\n",
      "+---+---+---+-----------+--------------------+----------+--------------+----------------+--------------------+\n",
      "only showing top 20 rows\n",
      "\n"
     ]
    }
   ],
   "source": [
    "from pyspark.ml import Pipeline\n",
    "\n",
    "pipeline = Pipeline(stages = [indexer, encoder, vectorAssembler, normalizer])\n",
    "\n",
    "model = pipeline.fit(df)\n",
    "\n",
    "prediction = model.transform(df)\n",
    "\n",
    "prediction.show()\n"
   ]
  },
  {
   "cell_type": "code",
   "execution_count": 45,
   "metadata": {},
   "outputs": [],
   "source": [
    "#make structure ==> features | classes\n",
    "df_train = prediction.drop('x').drop('y').drop('z').drop('class').drop('source').drop('features')\n"
   ]
  },
  {
   "cell_type": "code",
   "execution_count": 49,
   "metadata": {},
   "outputs": [],
   "source": [
    "df_train = df_train.drop('classIndex')"
   ]
  },
  {
   "cell_type": "code",
   "execution_count": 50,
   "metadata": {},
   "outputs": [
    {
     "name": "stdout",
     "output_type": "stream",
     "text": [
      "+--------------+--------------------+\n",
      "|   categoryVec|       features_norm|\n",
      "+--------------+--------------------+\n",
      "|(12,[5],[1.0])|[0.20754716981132...|\n",
      "|(12,[5],[1.0])|[0.20754716981132...|\n",
      "|(12,[5],[1.0])|[0.20183486238532...|\n",
      "|(12,[5],[1.0])|[0.20183486238532...|\n",
      "|(12,[5],[1.0])|[0.19626168224299...|\n",
      "|(12,[5],[1.0])|[0.20560747663551...|\n",
      "|(12,[5],[1.0])|[0.19047619047619...|\n",
      "|(12,[5],[1.0])|[0.20370370370370...|\n",
      "|(12,[5],[1.0])|[0.20754716981132...|\n",
      "|(12,[5],[1.0])|[0.20370370370370...|\n",
      "|(12,[5],[1.0])|[0.2,0.4857142857...|\n",
      "|(12,[5],[1.0])|[0.19230769230769...|\n",
      "|(12,[5],[1.0])|[0.20388349514563...|\n",
      "|(12,[5],[1.0])|[0.20388349514563...|\n",
      "|(12,[5],[1.0])|[0.18867924528301...|\n",
      "|(12,[5],[1.0])|[0.17821782178217...|\n",
      "|(12,[5],[1.0])|[0.18811881188118...|\n",
      "|(12,[5],[1.0])|[0.15533980582524...|\n",
      "|(12,[5],[1.0])|[0.17142857142857...|\n",
      "|(12,[5],[1.0])|[0.17821782178217...|\n",
      "+--------------+--------------------+\n",
      "only showing top 20 rows\n",
      "\n"
     ]
    }
   ],
   "source": [
    "df_train.show()"
   ]
  }
 ],
 "metadata": {
  "kernelspec": {
   "display_name": "Python 3.7 with Spark",
   "language": "python3",
   "name": "python37"
  },
  "language_info": {
   "codemirror_mode": {
    "name": "ipython",
    "version": 3
   },
   "file_extension": ".py",
   "mimetype": "text/x-python",
   "name": "python",
   "nbconvert_exporter": "python",
   "pygments_lexer": "ipython3",
   "version": "3.7.10"
  }
 },
 "nbformat": 4,
 "nbformat_minor": 1
}
