{
 "cells": [
  {
   "cell_type": "markdown",
   "metadata": {
    "button": false,
    "new_sheet": false,
    "run_control": {
     "read_only": false
    }
   },
   "source": [
    "<a href=\"https://cognitiveclass.ai\"><img src = \"https://s3-api.us-geo.objectstorage.softlayer.net/cf-courses-data/CognitiveClass/Logos/organization_logo/organization_logo.png\" width = 400> </a>\n"
   ]
  },
  {
   "cell_type": "markdown",
   "metadata": {},
   "source": [
    "This notebook is designed to run in a IBM Watson Studio default runtime (NOT the Watson Studio Apache Spark Runtime as the default runtime with 1 vCPU is free of charge). Therefore, we install Apache Spark in local mode for test purposes only. Please don't use it in production.\n",
    "\n",
    "In case you are facing issues, please read the following two documents first:\n",
    "\n",
    "<https://github.com/IBM/skillsnetwork/wiki/Environment-Setup>\n",
    "\n",
    "<https://github.com/IBM/skillsnetwork/wiki/FAQ>\n",
    "\n",
    "Then, please feel free to ask:\n",
    "\n",
    "[https://coursera.org/learn/machine-learning-big-data-apache-spark/discussions/all](https://coursera.org/learn/machine-learning-big-data-apache-spark/discussions/all?cm_mmc=Email_Newsletter-_-Developer_Ed%2BTech-_-WW_WW-_-SkillsNetwork-Courses-IBMDeveloperSkillsNetwork-ML0201EN-SkillsNetwork-20647446&cm_mmca1=000026UJ&cm_mmca2=10006555&cm_mmca3=M12345678&cvosrc=email.Newsletter.M12345678&cvo_campaign=000026UJ)\n",
    "\n",
    "Please make sure to follow the guidelines before asking a question:\n",
    "\n",
    "<https://github.com/IBM/skillsnetwork/wiki/FAQ#im-feeling-lost-and-confused-please-help-me>\n",
    "\n",
    "If running outside Watson Studio, this should work as well. In case you are running in an Apache Spark context outside Watson Studio, please remove the Apache Spark setup in the first notebook cells.\n"
   ]
  },
  {
   "cell_type": "code",
   "execution_count": 1,
   "metadata": {},
   "outputs": [],
   "source": [
    "from IPython.display import Markdown, display\n",
    "def printmd(string):\n",
    "    display(Markdown('# <span style=\"color:red\">'+string+'</span>'))\n",
    "\n",
    "\n",
    "if ('sc' in locals() or 'sc' in globals()):\n",
    "    printmd('<<<<<!!!!! It seems that you are running in a IBM Watson Studio Apache Spark Notebook. Please run it in an IBM Watson Studio Default Runtime (without Apache Spark) !!!!!>>>>>')\n"
   ]
  },
  {
   "cell_type": "code",
   "execution_count": 2,
   "metadata": {},
   "outputs": [
    {
     "name": "stdout",
     "output_type": "stream",
     "text": [
      "Collecting pyspark==2.4.5\n",
      "  Downloading pyspark-2.4.5.tar.gz (217.8 MB)\n",
      "\u001b[K     |████████████████████████████████| 217.8 MB 11 kB/s s eta 0:00:01��███████████▋| 215.2 MB 68.3 MB/s eta 0:00:01\n",
      "\u001b[?25hCollecting py4j==0.10.7\n",
      "  Downloading py4j-0.10.7-py2.py3-none-any.whl (197 kB)\n",
      "\u001b[K     |████████████████████████████████| 197 kB 55.7 MB/s eta 0:00:01\n",
      "\u001b[?25hBuilding wheels for collected packages: pyspark\n",
      "  Building wheel for pyspark (setup.py) ... \u001b[?25ldone\n",
      "\u001b[?25h  Created wheel for pyspark: filename=pyspark-2.4.5-py2.py3-none-any.whl size=218257927 sha256=1b913187fad3612f2bf1763e8847a234ee270b9306bc50068b5e7916eeedba35\n",
      "  Stored in directory: /tmp/wsuser/.cache/pip/wheels/01/c0/03/1c241c9c482b647d4d99412a98a5c7f87472728ad41ae55e1e\n",
      "Successfully built pyspark\n",
      "Installing collected packages: py4j, pyspark\n",
      "Successfully installed py4j-0.10.7 pyspark-2.4.5\n"
     ]
    }
   ],
   "source": [
    "!pip install pyspark==2.4.5"
   ]
  },
  {
   "cell_type": "code",
   "execution_count": 3,
   "metadata": {},
   "outputs": [],
   "source": [
    "try:\n",
    "    from pyspark import SparkContext, SparkConf\n",
    "    from pyspark.sql import SparkSession\n",
    "except ImportError as e:\n",
    "    printmd('<<<<<!!!!! Please restart your kernel after installing Apache Spark !!!!!>>>>>')"
   ]
  },
  {
   "cell_type": "code",
   "execution_count": 4,
   "metadata": {},
   "outputs": [],
   "source": [
    "sc = SparkContext.getOrCreate(SparkConf().setMaster(\"local[*]\"))\n",
    "\n",
    "spark = SparkSession \\\n",
    "    .builder \\\n",
    "    .getOrCreate()"
   ]
  },
  {
   "cell_type": "markdown",
   "metadata": {
    "collapsed": true
   },
   "source": [
    "Welcome to exercise one of week two of “Apache Spark for Scalable Machine Learning on BigData”. In this exercise you’ll read a DataFrame in order to perform a simple statistical analysis. Then you’ll rebalance the dataset. No worries, we’ll explain everything to you, let’s get started.\n",
    "\n",
    "Let’s create a data frame from a remote file by downloading it:\n"
   ]
  },
  {
   "cell_type": "code",
   "execution_count": 5,
   "metadata": {},
   "outputs": [
    {
     "name": "stdout",
     "output_type": "stream",
     "text": [
      "--2021-03-24 01:30:04--  https://github.com/IBM/coursera/raw/master/hmp.parquet\n",
      "Resolving github.com (github.com)... 140.82.114.3\n",
      "Connecting to github.com (github.com)|140.82.114.3|:443... connected.\n",
      "HTTP request sent, awaiting response... 301 Moved Permanently\n",
      "Location: https://github.com/IBM/skillsnetwork/raw/master/hmp.parquet [following]\n",
      "--2021-03-24 01:30:04--  https://github.com/IBM/skillsnetwork/raw/master/hmp.parquet\n",
      "Reusing existing connection to github.com:443.\n",
      "HTTP request sent, awaiting response... 302 Found\n",
      "Location: https://raw.githubusercontent.com/IBM/skillsnetwork/master/hmp.parquet [following]\n",
      "--2021-03-24 01:30:04--  https://raw.githubusercontent.com/IBM/skillsnetwork/master/hmp.parquet\n",
      "Resolving raw.githubusercontent.com (raw.githubusercontent.com)... 185.199.111.133, 185.199.109.133, 185.199.108.133, ...\n",
      "Connecting to raw.githubusercontent.com (raw.githubusercontent.com)|185.199.111.133|:443... connected.\n",
      "HTTP request sent, awaiting response... 200 OK\n",
      "Length: 932997 (911K) [application/octet-stream]\n",
      "Saving to: ‘hmp.parquet’\n",
      "\n",
      "hmp.parquet         100%[===================>] 911.13K  --.-KB/s    in 0.02s   \n",
      "\n",
      "2021-03-24 01:30:04 (45.4 MB/s) - ‘hmp.parquet’ saved [932997/932997]\n",
      "\n"
     ]
    }
   ],
   "source": [
    "# delete files from previous runs\n",
    "!rm -f hmp.parquet*\n",
    "\n",
    "# download the file containing the data in PARQUET format\n",
    "!wget https://github.com/IBM/coursera/raw/master/hmp.parquet\n",
    "    \n",
    "# create a dataframe out of it\n",
    "df = spark.read.parquet('hmp.parquet')\n",
    "\n",
    "# register a corresponding query table\n",
    "df.createOrReplaceTempView('df')"
   ]
  },
  {
   "cell_type": "markdown",
   "metadata": {},
   "source": [
    "Let’s have a look at the data set first. This dataset contains sensor recordings from different movement activities as we will see in the next week’s lectures. X, Y and Z contain accelerometer sensor values whereas the class field contains information about which movement has been recorded. The source field is optional and can be used for data lineage since it contains the file name of the original file where the particular row was imported from.\n",
    "\n",
    "More details on the data set can be found here:\n",
    "<https://github.com/wchill/HMP_Dataset>\n"
   ]
  },
  {
   "cell_type": "code",
   "execution_count": 6,
   "metadata": {},
   "outputs": [
    {
     "name": "stdout",
     "output_type": "stream",
     "text": [
      "+---+---+---+--------------------+-----------+\n",
      "|  x|  y|  z|              source|      class|\n",
      "+---+---+---+--------------------+-----------+\n",
      "| 22| 49| 35|Accelerometer-201...|Brush_teeth|\n",
      "| 22| 49| 35|Accelerometer-201...|Brush_teeth|\n",
      "| 22| 52| 35|Accelerometer-201...|Brush_teeth|\n",
      "| 22| 52| 35|Accelerometer-201...|Brush_teeth|\n",
      "| 21| 52| 34|Accelerometer-201...|Brush_teeth|\n",
      "| 22| 51| 34|Accelerometer-201...|Brush_teeth|\n",
      "| 20| 50| 35|Accelerometer-201...|Brush_teeth|\n",
      "| 22| 52| 34|Accelerometer-201...|Brush_teeth|\n",
      "| 22| 50| 34|Accelerometer-201...|Brush_teeth|\n",
      "| 22| 51| 35|Accelerometer-201...|Brush_teeth|\n",
      "| 21| 51| 33|Accelerometer-201...|Brush_teeth|\n",
      "| 20| 50| 34|Accelerometer-201...|Brush_teeth|\n",
      "| 21| 49| 33|Accelerometer-201...|Brush_teeth|\n",
      "| 21| 49| 33|Accelerometer-201...|Brush_teeth|\n",
      "| 20| 51| 35|Accelerometer-201...|Brush_teeth|\n",
      "| 18| 49| 34|Accelerometer-201...|Brush_teeth|\n",
      "| 19| 48| 34|Accelerometer-201...|Brush_teeth|\n",
      "| 16| 53| 34|Accelerometer-201...|Brush_teeth|\n",
      "| 18| 52| 35|Accelerometer-201...|Brush_teeth|\n",
      "| 18| 51| 32|Accelerometer-201...|Brush_teeth|\n",
      "+---+---+---+--------------------+-----------+\n",
      "only showing top 20 rows\n",
      "\n",
      "root\n",
      " |-- x: integer (nullable = true)\n",
      " |-- y: integer (nullable = true)\n",
      " |-- z: integer (nullable = true)\n",
      " |-- source: string (nullable = true)\n",
      " |-- class: string (nullable = true)\n",
      "\n"
     ]
    }
   ],
   "source": [
    "df.show()\n",
    "df.printSchema()"
   ]
  },
  {
   "cell_type": "markdown",
   "metadata": {},
   "source": [
    "This is a classical classification data set. One thing we always do during data analysis is checking if the classes are balanced. In other words, if there are more or less the same number of example in each class. Let’s find out by a simple aggregation using SQL.\n"
   ]
  },
  {
   "cell_type": "code",
   "execution_count": 7,
   "metadata": {},
   "outputs": [
    {
     "name": "stdout",
     "output_type": "stream",
     "text": [
      "+--------------+--------+\n",
      "|         class|count(1)|\n",
      "+--------------+--------+\n",
      "| Use_telephone|   15225|\n",
      "| Standup_chair|   25417|\n",
      "|      Eat_meat|   31236|\n",
      "|     Getup_bed|   45801|\n",
      "|   Drink_glass|   42792|\n",
      "|    Pour_water|   41673|\n",
      "|     Comb_hair|   23504|\n",
      "|          Walk|   92254|\n",
      "|  Climb_stairs|   40258|\n",
      "| Sitdown_chair|   25036|\n",
      "|   Liedown_bed|   11446|\n",
      "|Descend_stairs|   15375|\n",
      "|   Brush_teeth|   29829|\n",
      "|      Eat_soup|    6683|\n",
      "+--------------+--------+\n",
      "\n"
     ]
    }
   ],
   "source": [
    "spark.sql('select class,count(*) from df group by class').show()     #express using SQL"
   ]
  },
  {
   "cell_type": "markdown",
   "metadata": {},
   "source": [
    "As you can see there is quite an imbalance between classes. Before we dig into this, let’s re-write the same query using the DataFrame API – just in case you are not familiar with SQL. As we’ve learned before, it doesn’t matter if you express your queries with SQL or the DataFrame API – it all gets boiled down into the same execution plan optimized by Tungsten and accelerated by Catalyst. You can even mix and match SQL and DataFrame API code if you like.\n",
    "\n",
    "Again, more details on the API can be found here:\n",
    "[https://spark.apache.org/docs/latest/api/python/pyspark.sql.html#pyspark.sql.DataFrame](https://spark.apache.org/docs/latest/api/python/pyspark.sql.html#pyspark.sql.DataFrame?cm_mmc=Email_Newsletter-_-Developer_Ed%2BTech-_-WW_WW-_-SkillsNetwork-Courses-IBMDeveloperSkillsNetwork-ML0201EN-SkillsNetwork-20647446&cm_mmca1=000026UJ&cm_mmca2=10006555&cm_mmca3=M12345678&cvosrc=email.Newsletter.M12345678&cvo_campaign=000026UJ&cm_mmc=Email_Newsletter-_-Developer_Ed%2BTech-_-WW_WW-_-SkillsNetwork-Courses-IBMDeveloperSkillsNetwork-ML0201EN-SkillsNetwork-20647446&cm_mmca1=000026UJ&cm_mmca2=10006555&cm_mmca3=M12345678&cvosrc=email.Newsletter.M12345678&cvo_campaign=000026UJ)\n"
   ]
  },
  {
   "cell_type": "code",
   "execution_count": 8,
   "metadata": {},
   "outputs": [
    {
     "name": "stdout",
     "output_type": "stream",
     "text": [
      "+--------------+-----+\n",
      "|         class|count|\n",
      "+--------------+-----+\n",
      "| Use_telephone|15225|\n",
      "| Standup_chair|25417|\n",
      "|      Eat_meat|31236|\n",
      "|     Getup_bed|45801|\n",
      "|   Drink_glass|42792|\n",
      "|    Pour_water|41673|\n",
      "|     Comb_hair|23504|\n",
      "|          Walk|92254|\n",
      "|  Climb_stairs|40258|\n",
      "| Sitdown_chair|25036|\n",
      "|   Liedown_bed|11446|\n",
      "|Descend_stairs|15375|\n",
      "|   Brush_teeth|29829|\n",
      "|      Eat_soup| 6683|\n",
      "+--------------+-----+\n",
      "\n"
     ]
    }
   ],
   "source": [
    "df.groupBy('class').count().show()    #express using dataframe function"
   ]
  },
  {
   "cell_type": "markdown",
   "metadata": {},
   "source": [
    "Let’s create a bar plot from this data. We’re using the pixidust library, which is Open Source, because of its simplicity. But any other library like matplotlib is fine as well. \n"
   ]
  },
  {
   "cell_type": "code",
   "execution_count": 15,
   "metadata": {},
   "outputs": [
    {
     "name": "stdout",
     "output_type": "stream",
     "text": [
      "Requirement already satisfied: pixiedust in /opt/conda/envs/Python-3.7-main/lib/python3.7/site-packages (1.1.19)\n",
      "Requirement already satisfied: astunparse in /opt/conda/envs/Python-3.7-main/lib/python3.7/site-packages (from pixiedust) (1.6.3)\n",
      "Requirement already satisfied: geojson in /opt/conda/envs/Python-3.7-main/lib/python3.7/site-packages (from pixiedust) (2.5.0)\n",
      "Requirement already satisfied: colour in /opt/conda/envs/Python-3.7-main/lib/python3.7/site-packages (from pixiedust) (0.1.5)\n",
      "Requirement already satisfied: markdown in /opt/conda/envs/Python-3.7-main/lib/python3.7/site-packages (from pixiedust) (3.1.1)\n",
      "Requirement already satisfied: requests in /opt/conda/envs/Python-3.7-main/lib/python3.7/site-packages (from pixiedust) (2.24.0)\n",
      "Requirement already satisfied: matplotlib in /opt/conda/envs/Python-3.7-main/lib/python3.7/site-packages (from pixiedust) (3.2.2)\n",
      "Requirement already satisfied: pandas in /opt/conda/envs/Python-3.7-main/lib/python3.7/site-packages (from pixiedust) (1.0.5)\n",
      "Requirement already satisfied: wheel<1.0,>=0.23.0 in /opt/conda/envs/Python-3.7-main/lib/python3.7/site-packages (from astunparse->pixiedust) (0.34.2)\n",
      "Requirement already satisfied: six<2.0,>=1.6.1 in /opt/conda/envs/Python-3.7-main/lib/python3.7/site-packages (from astunparse->pixiedust) (1.15.0)\n",
      "Requirement already satisfied: setuptools>=36 in /opt/conda/envs/Python-3.7-main/lib/python3.7/site-packages (from markdown->pixiedust) (47.3.1.post20200622)\n",
      "Requirement already satisfied: urllib3!=1.25.0,!=1.25.1,<1.26,>=1.21.1 in /opt/conda/envs/Python-3.7-main/lib/python3.7/site-packages (from requests->pixiedust) (1.25.9)\n",
      "Requirement already satisfied: certifi>=2017.4.17 in /opt/conda/envs/Python-3.7-main/lib/python3.7/site-packages (from requests->pixiedust) (2020.12.5)\n",
      "Requirement already satisfied: chardet<4,>=3.0.2 in /opt/conda/envs/Python-3.7-main/lib/python3.7/site-packages (from requests->pixiedust) (3.0.4)\n",
      "Requirement already satisfied: idna<3,>=2.5 in /opt/conda/envs/Python-3.7-main/lib/python3.7/site-packages (from requests->pixiedust) (2.9)\n",
      "Requirement already satisfied: pyparsing!=2.0.4,!=2.1.2,!=2.1.6,>=2.0.1 in /opt/conda/envs/Python-3.7-main/lib/python3.7/site-packages (from matplotlib->pixiedust) (2.4.7)\n",
      "Requirement already satisfied: numpy>=1.11 in /opt/conda/envs/Python-3.7-main/lib/python3.7/site-packages (from matplotlib->pixiedust) (1.18.5)\n",
      "Requirement already satisfied: kiwisolver>=1.0.1 in /opt/conda/envs/Python-3.7-main/lib/python3.7/site-packages (from matplotlib->pixiedust) (1.2.0)\n",
      "Requirement already satisfied: python-dateutil>=2.1 in /opt/conda/envs/Python-3.7-main/lib/python3.7/site-packages (from matplotlib->pixiedust) (2.8.1)\n",
      "Requirement already satisfied: cycler>=0.10 in /opt/conda/envs/Python-3.7-main/lib/python3.7/site-packages (from matplotlib->pixiedust) (0.10.0)\n",
      "Requirement already satisfied: pytz>=2017.2 in /opt/conda/envs/Python-3.7-main/lib/python3.7/site-packages (from pandas->pixiedust) (2020.1)\n"
     ]
    }
   ],
   "source": [
    "!pip install pixiedust"
   ]
  },
  {
   "cell_type": "code",
   "execution_count": 27,
   "metadata": {
    "pixiedust": {
     "displayParams": {
      "handlerId": "barChart",
      "keyFields": "class",
      "legend": "true",
      "mpld3": "false",
      "orientation": "horizontal",
      "rendererId": "matplotlib",
      "sortby": "Values ASC",
      "valueFields": "count"
     }
    }
   },
   "outputs": [
    {
     "data": {
      "text/html": [
       "<style type=\"text/css\">.pd_warning{display:none;}</style><div class=\"pd_warning\"><em>Hey, there's something awesome here! To see it, open this notebook outside GitHub, in a viewer like Jupyter</em></div>\n",
       "        <div class=\"pd_save is-viewer-good\" style=\"padding-right:10px;text-align: center;line-height:initial !important;font-size: xx-large;font-weight: 500;color: coral;\">\n",
       "            \n",
       "        </div>\n",
       "    <div id=\"chartFigure3e5e8f3c\" class=\"pd_save is-viewer-good\" style=\"overflow-x:auto\">\n",
       "            \n",
       "                    \n",
       "                            <center><img style=\"max-width:initial !important\" src=\"data:image/png;base64,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\" class=\"pd_save\"></center>\n",
       "                        \n",
       "                    \n",
       "                \n",
       "        </div>"
      ],
      "text/plain": [
       "<IPython.core.display.HTML object>"
      ]
     },
     "metadata": {},
     "output_type": "display_data"
    }
   ],
   "source": [
    "from pixiedust.display import *\n",
    "from pyspark.sql.functions import col\n",
    "counts = df.groupBy('class').count().orderBy('count')\n",
    "display(counts)"
   ]
  },
  {
   "cell_type": "markdown",
   "metadata": {},
   "source": [
    "This looks nice, but it would be nice if we can aggregate further to obtain some quantitative metrics on the imbalance like, min, max, mean and standard deviation. If we divide max by min we get a measure called minmax ration which tells us something about the relationship between the smallest and largest class. Again, let’s first use SQL for those of you familiar with SQL. Don’t be scared, we’re used nested sub-selects, basically selecting from a result of a SQL query like it was a table. All within on SQL statement.\n"
   ]
  },
  {
   "cell_type": "code",
   "execution_count": 18,
   "metadata": {},
   "outputs": [
    {
     "name": "stdout",
     "output_type": "stream",
     "text": [
      "+----+-----+------------------+------------------+-----------------+\n",
      "| min|  max|              mean|            stddev|      minmaxratio|\n",
      "+----+-----+------------------+------------------+-----------------+\n",
      "|6683|92254|31894.928571428572|21284.893716741157|13.80427951518779|\n",
      "+----+-----+------------------+------------------+-----------------+\n",
      "\n"
     ]
    }
   ],
   "source": [
    "spark.sql('''\n",
    "    select \n",
    "        *,\n",
    "        max/min as minmaxratio -- compute minmaxratio based on previously computed values\n",
    "        from (\n",
    "            select \n",
    "                min(ct) as min, -- compute minimum value of all classes\n",
    "                max(ct) as max, -- compute maximum value of all classes\n",
    "                mean(ct) as mean, -- compute mean between all classes\n",
    "                stddev(ct) as stddev -- compute standard deviation between all classes\n",
    "                from (\n",
    "                    select\n",
    "                        count(*) as ct -- count the number of rows per class and rename it to ct\n",
    "                        from df -- access the temporary query table called df backed by DataFrame df\n",
    "                        group by class -- aggregate over class\n",
    "                )\n",
    "        )   \n",
    "''').show()"
   ]
  },
  {
   "cell_type": "markdown",
   "metadata": {},
   "source": [
    "The same query can be expressed using the DataFrame API. Again, don’t be scared. It’s just a sequential expression of transformation steps. You now an choose which syntax you like better.\n"
   ]
  },
  {
   "cell_type": "code",
   "execution_count": 19,
   "metadata": {},
   "outputs": [
    {
     "name": "stdout",
     "output_type": "stream",
     "text": [
      "+----+-----+------------------+------------------+-----------------+\n",
      "| min|  max|              mean|            stddev|      minmaxratio|\n",
      "+----+-----+------------------+------------------+-----------------+\n",
      "|6683|92254|31894.928571428572|21284.893716741157|13.80427951518779|\n",
      "+----+-----+------------------+------------------+-----------------+\n",
      "\n"
     ]
    }
   ],
   "source": [
    "from pyspark.sql.functions import col, min, max, mean, stddev\n",
    "\n",
    "df \\\n",
    "    .groupBy('class') \\\n",
    "    .count() \\\n",
    "    .select([ \n",
    "        min(col(\"count\")).alias('min'), \n",
    "        max(col(\"count\")).alias('max'), \n",
    "        mean(col(\"count\")).alias('mean'), \n",
    "        stddev(col(\"count\")).alias('stddev') \n",
    "    ]) \\\n",
    "    .select([\n",
    "        col('*'),\n",
    "        (col(\"max\") / col(\"min\")).alias('minmaxratio')\n",
    "    ]) \\\n",
    "    .show()\n"
   ]
  },
  {
   "cell_type": "markdown",
   "metadata": {},
   "source": [
    "Now it’s time for you to work on the data set. First, please create a table of all classes with the respective counts, but this time, please order the table by the count number, ascending.\n"
   ]
  },
  {
   "cell_type": "code",
   "execution_count": 32,
   "metadata": {},
   "outputs": [
    {
     "name": "stdout",
     "output_type": "stream",
     "text": [
      "+--------------+-----+\n",
      "|         class|count|\n",
      "+--------------+-----+\n",
      "|      Eat_soup| 6683|\n",
      "|   Liedown_bed|11446|\n",
      "| Use_telephone|15225|\n",
      "|Descend_stairs|15375|\n",
      "|     Comb_hair|23504|\n",
      "| Sitdown_chair|25036|\n",
      "| Standup_chair|25417|\n",
      "|   Brush_teeth|29829|\n",
      "|      Eat_meat|31236|\n",
      "|  Climb_stairs|40258|\n",
      "|    Pour_water|41673|\n",
      "|   Drink_glass|42792|\n",
      "|     Getup_bed|45801|\n",
      "|          Walk|92254|\n",
      "+--------------+-----+\n",
      "\n"
     ]
    }
   ],
   "source": [
    "#ordered data asc using pyspark\n",
    "df1 = df.groupBy('class').count()\n",
    "df1 = df1.orderBy(col('count').asc())\n",
    "df1.show()"
   ]
  },
  {
   "cell_type": "markdown",
   "metadata": {},
   "source": [
    "Pixiedust is a very sophisticated library. It takes care of sorting as well. Please modify the bar chart so that it gets sorted by the number of elements per class, ascending. Hint: It’s an option available in the UI once rendered using the display() function.\n"
   ]
  },
  {
   "cell_type": "code",
   "execution_count": null,
   "metadata": {
    "pixiedust": {
     "displayParams": {
      "handlerId": "tableView"
     }
    }
   },
   "outputs": [
    {
     "data": {
      "text/html": [
       "<style type=\"text/css\">.pd_warning{display:none;}</style><div class=\"pd_warning\"><em>Hey, there's something awesome here! To see it, open this notebook outside GitHub, in a viewer like Jupyter</em></div>\n",
       "        <div class=\"pd_save is-viewer-good\" style=\"padding-right:10px;text-align: center;line-height:initial !important;font-size: xx-large;font-weight: 500;color: coral;\">\n",
       "            \n",
       "        </div>\n",
       "    <div id=\"chartFigurebdbc6a63\" class=\"pd_save is-viewer-good\" style=\"overflow-x:auto\">\n",
       "            <style type=\"text/css\" class=\"pd_save\">\n",
       "    .df-table-wrapper .panel-heading {\n",
       "      border-radius: 0;\n",
       "      padding: 0px;\n",
       "    }\n",
       "    .df-table-wrapper .panel-heading:hover {\n",
       "      border-color: #008571;\n",
       "    }\n",
       "    .df-table-wrapper .panel-title a {\n",
       "      background-color: #f9f9fb;\n",
       "      color: #333333;\n",
       "      display: block;\n",
       "      outline: none;\n",
       "      padding: 10px 15px;\n",
       "      text-decoration: none;\n",
       "    }\n",
       "    .df-table-wrapper .panel-title a:hover {\n",
       "      background-color: #337ab7;\n",
       "      border-color: #2e6da4;\n",
       "      color: #ffffff;\n",
       "      display: block;\n",
       "      padding: 10px 15px;\n",
       "      text-decoration: none;\n",
       "    }\n",
       "    .df-table-wrapper {\n",
       "      font-size: small;\n",
       "      font-weight: 300;\n",
       "      letter-spacing: 0.5px;\n",
       "      line-height: normal;\n",
       "      height: inherit;\n",
       "      overflow: auto;\n",
       "    }\n",
       "    .df-table-search {\n",
       "      margin: 0 0 20px 0;\n",
       "    }\n",
       "    .df-table-search-count {\n",
       "      display: inline-block;\n",
       "      margin: 0 0 20px 0;\n",
       "    }\n",
       "    .df-table-container {\n",
       "      max-height: 50vh;\n",
       "      max-width: 100%;\n",
       "      overflow-x: auto;\n",
       "      position: relative;\n",
       "    }\n",
       "    .df-table-wrapper table {\n",
       "      border: 0 none #ffffff;\n",
       "      border-collapse: collapse;\n",
       "      margin: 0;\n",
       "      min-width: 100%;\n",
       "      padding: 0;\n",
       "      table-layout: fixed;\n",
       "      height: inherit;\n",
       "      overflow: auto;\n",
       "    }\n",
       "    .df-table-wrapper tr.hidden {\n",
       "      display: none;\n",
       "    }\n",
       "    .df-table-wrapper tr:nth-child(even) {\n",
       "      background-color: #f9f9fb;\n",
       "    }\n",
       "    .df-table-wrapper tr.even {\n",
       "      background-color: #f9f9fb;\n",
       "    }\n",
       "    .df-table-wrapper tr.odd {\n",
       "      background-color: #ffffff;\n",
       "    }\n",
       "    .df-table-wrapper td + td {\n",
       "      border-left: 1px solid #e0e0e0;\n",
       "    }\n",
       "  \n",
       "    .df-table-wrapper thead,\n",
       "    .fixed-header {\n",
       "      font-weight: 600;\n",
       "    }\n",
       "    .df-table-wrapper tr,\n",
       "    .fixed-row {\n",
       "      border: 0 none #ffffff;\n",
       "      margin: 0;\n",
       "      padding: 0;\n",
       "    }\n",
       "    .df-table-wrapper th,\n",
       "    .df-table-wrapper td,\n",
       "    .fixed-cell {\n",
       "      border: 0 none #ffffff;\n",
       "      margin: 0;\n",
       "      min-width: 50px;\n",
       "      padding: 5px 20px 5px 10px;\n",
       "      text-align: left;\n",
       "      word-wrap: break-word;\n",
       "    }\n",
       "    .df-table-wrapper th {\n",
       "      padding-bottom: 0;\n",
       "      padding-top: 0;\n",
       "    }\n",
       "    .df-table-wrapper th div {\n",
       "      max-height: 1px;\n",
       "      visibility: hidden;\n",
       "    }\n",
       "  \n",
       "    .df-schema-field {\n",
       "      margin-left: 10px;\n",
       "    }\n",
       "  \n",
       "    .fixed-header-container {\n",
       "      overflow: hidden;\n",
       "      position: relative;\n",
       "    }\n",
       "    .fixed-header {\n",
       "      border-bottom: 2px solid #000;\n",
       "      display: table;\n",
       "      position: relative;\n",
       "    }\n",
       "    .fixed-row {\n",
       "      display: table-row;\n",
       "    }\n",
       "    .fixed-cell {\n",
       "      display: table-cell;\n",
       "    }\n",
       "  </style>\n",
       "  \n",
       "  \n",
       "  \n",
       "  <div class=\"df-table-wrapper df-table-wrapper-bdbc6a63 panel-group pd_save\">\n",
       "    <!-- dataframe schema -->\n",
       "    \n",
       "    <div class=\"panel panel-default\">\n",
       "      <div class=\"panel-heading\">\n",
       "        <h4 class=\"panel-title\" style=\"margin: 0px;\">\n",
       "          <a data-toggle=\"collapse\" href=\"#df-schema-bdbc6a63\" data-parent=\"#df-table-wrapper-bdbc6a63\">Schema</a>\n",
       "        </h4>\n",
       "      </div>\n",
       "      <div id=\"df-schema-bdbc6a63\" class=\"panel-collapse collapse\">\n",
       "        <div class=\"panel-body\" style=\"font-family: monospace;\">\n",
       "          <div class=\"df-schema-fields\">\n",
       "            <div>Field types:</div>\n",
       "            \n",
       "              <div class=\"df-schema-field\"><strong>class: </strong> object</div>\n",
       "            \n",
       "              <div class=\"df-schema-field\"><strong>count: </strong> int64</div>\n",
       "            \n",
       "          </div>\n",
       "        </div>\n",
       "      </div>\n",
       "    </div>\n",
       "    \n",
       "    <!-- dataframe table -->\n",
       "    <div class=\"panel panel-default\">\n",
       "      \n",
       "      <div class=\"panel-heading\">\n",
       "        <h4 class=\"panel-title\" style=\"margin: 0px;\">\n",
       "          <a data-toggle=\"collapse\" href=\"#df-table-bdbc6a63\" data-parent=\"#df-table-wrapper-bdbc6a63\"> Table</a>\n",
       "        </h4>\n",
       "      </div>\n",
       "      \n",
       "      <div id=\"df-table-bdbc6a63\" class=\"panel-collapse collapse in\">\n",
       "        <div class=\"panel-body\">\n",
       "          \n",
       "          <input type=\"text\" class=\"df-table-search form-control input-sm\" placeholder=\"Search table\">\n",
       "          \n",
       "          <div>\n",
       "            \n",
       "            <span class=\"df-table-search-count\">Showing 14 of 14 rows</span>\n",
       "            \n",
       "          </div>\n",
       "          <!-- fixed header for when dataframe table scrolls -->\n",
       "          <div class=\"fixed-header-container\">\n",
       "            <div class=\"fixed-header\">\n",
       "              <div class=\"fixed-row\">\n",
       "                \n",
       "                <div class=\"fixed-cell\">class</div>\n",
       "                \n",
       "                <div class=\"fixed-cell\">count</div>\n",
       "                \n",
       "              </div>\n",
       "            </div>\n",
       "          </div>\n",
       "          <div class=\"df-table-container\">\n",
       "            <table class=\"df-table\">\n",
       "              <thead>\n",
       "                <tr>\n",
       "                  \n",
       "                  <th><div>class</div></th>\n",
       "                  \n",
       "                  <th><div>count</div></th>\n",
       "                  \n",
       "                </tr>\n",
       "              </thead>\n",
       "              <tbody>\n",
       "                \n",
       "                <tr>\n",
       "                  \n",
       "                  <td>Eat_soup</td>\n",
       "                  \n",
       "                  <td>6683</td>\n",
       "                  \n",
       "                </tr>\n",
       "                \n",
       "                <tr>\n",
       "                  \n",
       "                  <td>Liedown_bed</td>\n",
       "                  \n",
       "                  <td>11446</td>\n",
       "                  \n",
       "                </tr>\n",
       "                \n",
       "                <tr>\n",
       "                  \n",
       "                  <td>Use_telephone</td>\n",
       "                  \n",
       "                  <td>15225</td>\n",
       "                  \n",
       "                </tr>\n",
       "                \n",
       "                <tr>\n",
       "                  \n",
       "                  <td>Descend_stairs</td>\n",
       "                  \n",
       "                  <td>15375</td>\n",
       "                  \n",
       "                </tr>\n",
       "                \n",
       "                <tr>\n",
       "                  \n",
       "                  <td>Comb_hair</td>\n",
       "                  \n",
       "                  <td>23504</td>\n",
       "                  \n",
       "                </tr>\n",
       "                \n",
       "                <tr>\n",
       "                  \n",
       "                  <td>Sitdown_chair</td>\n",
       "                  \n",
       "                  <td>25036</td>\n",
       "                  \n",
       "                </tr>\n",
       "                \n",
       "                <tr>\n",
       "                  \n",
       "                  <td>Standup_chair</td>\n",
       "                  \n",
       "                  <td>25417</td>\n",
       "                  \n",
       "                </tr>\n",
       "                \n",
       "                <tr>\n",
       "                  \n",
       "                  <td>Brush_teeth</td>\n",
       "                  \n",
       "                  <td>29829</td>\n",
       "                  \n",
       "                </tr>\n",
       "                \n",
       "                <tr>\n",
       "                  \n",
       "                  <td>Eat_meat</td>\n",
       "                  \n",
       "                  <td>31236</td>\n",
       "                  \n",
       "                </tr>\n",
       "                \n",
       "                <tr>\n",
       "                  \n",
       "                  <td>Climb_stairs</td>\n",
       "                  \n",
       "                  <td>40258</td>\n",
       "                  \n",
       "                </tr>\n",
       "                \n",
       "                <tr>\n",
       "                  \n",
       "                  <td>Pour_water</td>\n",
       "                  \n",
       "                  <td>41673</td>\n",
       "                  \n",
       "                </tr>\n",
       "                \n",
       "                <tr>\n",
       "                  \n",
       "                  <td>Drink_glass</td>\n",
       "                  \n",
       "                  <td>42792</td>\n",
       "                  \n",
       "                </tr>\n",
       "                \n",
       "                <tr>\n",
       "                  \n",
       "                  <td>Getup_bed</td>\n",
       "                  \n",
       "                  <td>45801</td>\n",
       "                  \n",
       "                </tr>\n",
       "                \n",
       "                <tr>\n",
       "                  \n",
       "                  <td>Walk</td>\n",
       "                  \n",
       "                  <td>92254</td>\n",
       "                  \n",
       "                </tr>\n",
       "                \n",
       "              </tbody>\n",
       "            </table>\n",
       "          </div>\n",
       "        </div>\n",
       "      </div>\n",
       "    </div>\n",
       "  </div>\n",
       "  \n",
       "  <script class=\"pd_save\">\n",
       "    $(function() {\n",
       "      var tableWrapper = $('.df-table-wrapper-bdbc6a63');\n",
       "      var fixedHeader = $('.fixed-header', tableWrapper);\n",
       "      var tableContainer = $('.df-table-container', tableWrapper);\n",
       "      var table = $('.df-table', tableContainer);\n",
       "      var rows = $('tbody > tr', table);\n",
       "      var total = 14;\n",
       "  \n",
       "      fixedHeader\n",
       "        .css('width', table.width())\n",
       "        .find('.fixed-cell')\n",
       "        .each(function(i, e) {\n",
       "          $(this).css('width', $('.df-table-wrapper-bdbc6a63 th:nth-child(' + (i+1) + ')').css('width'));\n",
       "        });\n",
       "  \n",
       "      tableContainer.scroll(function() {\n",
       "        fixedHeader.css({ left: table.position().left });\n",
       "      });\n",
       "  \n",
       "      rows.on(\"click\", function(e){\n",
       "          // var txt = e.delegateTarget.innerText;\n",
       "          var splits = $(e.delegateTarget).text().trim().replace(/[\\n\\r]/g, '\\t').split(\"\\t\").map(function(item){return item.trim()}).filter(function(item){return item!=\"\"});\n",
       "          // var splits = txt.split(\"\\t\");\n",
       "          var len = splits.length;\n",
       "          var hdrs = $(fixedHeader).find(\".fixed-cell\");\n",
       "          // Add all cells in the selected row as a map to be consumed by the target as needed\n",
       "          var payload = {type:\"select\", targetDivId: \"\" };\n",
       "          for (var i = 0; i < len; i++) {\n",
       "            payload[hdrs[i].innerHTML] = splits[i];\n",
       "          }\n",
       "  \n",
       "          //simple selection highlighting, client adds \"selected\" class\n",
       "          $(this).addClass(\"selected\").siblings().removeClass(\"selected\");\n",
       "          $(document).trigger('pd_event', payload);\n",
       "      });\n",
       "  \n",
       "      $('.df-table-search', tableWrapper).keyup(function() {\n",
       "        var val = '^(?=.*\\\\b' + $.trim($(this).val()).split(/\\s+/).join('\\\\b)(?=.*\\\\b') + ').*$';\n",
       "        var reg = RegExp(val, 'i');\n",
       "        var index = 0;\n",
       "        \n",
       "        rows.each(function(i, e) {\n",
       "          if (!reg.test($(this).text().replace(/\\s+/g, ' '))) {\n",
       "            $(this).attr('class', 'hidden');\n",
       "          }\n",
       "          else {\n",
       "            $(this).attr('class', (++index % 2 == 0 ? 'even' : 'odd'));\n",
       "          }\n",
       "        });\n",
       "        $('.df-table-search-count', tableWrapper).html('Showing ' + index + ' of ' + total + ' rows');\n",
       "      });\n",
       "    });\n",
       "  \n",
       "    $(\".df-table-wrapper td:contains('http://')\").each(function(){var tc = this.textContent; $(this).wrapInner(\"<a target='_blank' href='\" + tc + \"'/>\");});\n",
       "    $(\".df-table-wrapper td:contains('https://')\").each(function(){var tc = this.textContent; $(this).wrapInner(\"<a target='_blank' href='\" + tc + \"'/>\");});\n",
       "  </script>\n",
       "  \n",
       "        </div>"
      ],
      "text/plain": [
       "<IPython.core.display.HTML object>"
      ]
     },
     "metadata": {},
     "output_type": "display_data"
    }
   ],
   "source": [
    "display(df1)"
   ]
  },
  {
   "cell_type": "markdown",
   "metadata": {},
   "source": [
    "Imbalanced classes can cause pain in machine learning. Therefore let’s rebalance. In the flowing we limit the number of elements per class to the amount of the least represented class. This is called undersampling. Other ways of rebalancing can be found here:\n",
    "\n",
    "[https://machinelearningmastery.com/tactics-to-combat-imbalanced-classes-in-your-machine-learning-dataset/](https://machinelearningmastery.com/tactics-to-combat-imbalanced-classes-in-your-machine-learning-dataset?cm_mmc=Email_Newsletter-_-Developer_Ed%2BTech-_-WW_WW-_-SkillsNetwork-Courses-IBMDeveloperSkillsNetwork-ML0201EN-SkillsNetwork-20647446&cm_mmca1=000026UJ&cm_mmca2=10006555&cm_mmca3=M12345678&cvosrc=email.Newsletter.M12345678&cvo_campaign=000026UJ)\n"
   ]
  },
  {
   "cell_type": "code",
   "execution_count": 34,
   "metadata": {},
   "outputs": [],
   "source": [
    "from pyspark.sql.functions import min\n",
    "\n",
    "# create a lot of distinct classes from the dataset\n",
    "classes = [row[0] for row in df.select('class').distinct().collect()]\n",
    "\n",
    "# compute the number of elements of the smallest class in order to limit the number of samples per calss\n",
    "min = df.groupBy('class').count().select(min('count')).first()[0]\n",
    "\n",
    "# define the result dataframe variable\n",
    "df_balanced = None\n",
    "\n",
    "# iterate over distinct classes\n",
    "for cls in classes:\n",
    "    \n",
    "    # only select examples for the specific class within this iteration\n",
    "    # shuffle the order of the elements (by setting fraction to 1.0 sample works like shuffle)\n",
    "    # return only the first n samples\n",
    "    df_temp = df \\\n",
    "        .filter(\"class = '\"+cls+\"'\") \\\n",
    "        .sample(False, 1.0) \\\n",
    "        .limit(min)\n",
    "    \n",
    "    # on first iteration, assing df_temp to empty df_balanced\n",
    "    if df_balanced == None:    \n",
    "        df_balanced = df_temp\n",
    "    # afterwards, append vertically\n",
    "    else:\n",
    "        df_balanced=df_balanced.union(df_temp)"
   ]
  },
  {
   "cell_type": "markdown",
   "metadata": {},
   "source": [
    "Please verify, by using the code cell below, if df_balanced has the same number of elements per class. You should get 6683 elements per class.\n"
   ]
  },
  {
   "cell_type": "code",
   "execution_count": 37,
   "metadata": {},
   "outputs": [
    {
     "name": "stdout",
     "output_type": "stream",
     "text": [
      "+--------------+-----+\n",
      "|         class|count|\n",
      "+--------------+-----+\n",
      "| Use_telephone| 6683|\n",
      "| Standup_chair| 6683|\n",
      "|      Eat_meat| 6683|\n",
      "|     Getup_bed| 6683|\n",
      "|   Drink_glass| 6683|\n",
      "|    Pour_water| 6683|\n",
      "|     Comb_hair| 6683|\n",
      "|          Walk| 6683|\n",
      "|  Climb_stairs| 6683|\n",
      "| Sitdown_chair| 6683|\n",
      "|   Liedown_bed| 6683|\n",
      "|Descend_stairs| 6683|\n",
      "|   Brush_teeth| 6683|\n",
      "|      Eat_soup| 6683|\n",
      "+--------------+-----+\n",
      "\n"
     ]
    }
   ],
   "source": [
    "df_balanced.groupBy('class').count().show()"
   ]
  },
  {
   "cell_type": "markdown",
   "metadata": {
    "button": false,
    "new_sheet": false,
    "run_control": {
     "read_only": false
    }
   },
   "source": [
    "### Thank you for completing this lab!\n",
    "\n",
    "This notebook was created by <a href=\"https://linkedin.com/in/romeo-kienzler-089b4557\"> Romeo Kienzler </a>  I hope you found this lab interesting and educational. Feel free to contact me if you have any questions!\n"
   ]
  },
  {
   "cell_type": "markdown",
   "metadata": {},
   "source": [
    "## Change Log\n",
    "\n",
    "| Date (YYYY-MM-DD) | Version | Changed By | Change Description                                          |\n",
    "| ----------------- | ------- | ---------- | ----------------------------------------------------------- |\n",
    "| 2020-09-29        | 2.0     | Srishti    | Migrated Lab to Markdown and added to course repo in GitLab |\n",
    "\n",
    "<hr>\n",
    "\n",
    "## <h3 align=\"center\"> © IBM Corporation 2020. All rights reserved. <h3/>\n"
   ]
  }
 ],
 "metadata": {
  "kernelspec": {
   "display_name": "Python 3.7",
   "language": "python",
   "name": "python3"
  },
  "language_info": {
   "codemirror_mode": {
    "name": "ipython",
    "version": 3
   },
   "file_extension": ".py",
   "mimetype": "text/x-python",
   "name": "python",
   "nbconvert_exporter": "python",
   "pygments_lexer": "ipython3",
   "version": "3.7.10"
  }
 },
 "nbformat": 4,
 "nbformat_minor": 1
}
